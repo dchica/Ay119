{
  "nbformat": 4,
  "nbformat_minor": 0,
  "metadata": {
    "colab": {
      "name": "Exercise 1 - Daniel Chica",
      "provenance": [],
      "collapsed_sections": [],
      "authorship_tag": "ABX9TyMeOXJDEQOMbd87xDXSsBv2",
      "include_colab_link": true
    },
    "kernelspec": {
      "name": "python3",
      "display_name": "Python 3"
    }
  },
  "cells": [
    {
      "cell_type": "markdown",
      "metadata": {
        "id": "view-in-github",
        "colab_type": "text"
      },
      "source": [
        "<a href=\"https://colab.research.google.com/github/obliterationx/Ay119/blob/master/Exercise_1_Daniel_Chica.ipynb\" target=\"_parent\"><img src=\"https://colab.research.google.com/assets/colab-badge.svg\" alt=\"Open In Colab\"/></a>"
      ]
    },
    {
      "cell_type": "code",
      "metadata": {
        "id": "_TiC6omydnW1",
        "colab_type": "code",
        "outputId": "243ef84e-0d35-4948-9086-8a3bfb6f8cf4",
        "colab": {
          "base_uri": "https://localhost:8080/",
          "height": 54
        }
      },
      "source": [
        "#Link the Google Drive to import data\n",
        "from google.colab import drive\n",
        "drive.mount('/content/drive')"
      ],
      "execution_count": 0,
      "outputs": [
        {
          "output_type": "stream",
          "text": [
            "Drive already mounted at /content/drive; to attempt to forcibly remount, call drive.mount(\"/content/drive\", force_remount=True).\n"
          ],
          "name": "stdout"
        }
      ]
    },
    {
      "cell_type": "code",
      "metadata": {
        "id": "1-nuoGg_d1aj",
        "colab_type": "code",
        "colab": {}
      },
      "source": [
        "#Define the datapath to access information\n",
        "import sys\n",
        "datapath = '/content/drive/My Drive/AY119/data/dsfp_ztf_feats.npy'\n",
        "sys.path.insert(1, datapath)"
      ],
      "execution_count": 0,
      "outputs": []
    },
    {
      "cell_type": "code",
      "metadata": {
        "id": "Uneo2MuxeLqN",
        "colab_type": "code",
        "colab": {}
      },
      "source": [
        "#Load the data and define column names\n",
        "import numpy as np\n",
        "feats = np.load(datapath)\n",
        "COL_NAMES = ['diffmaglim', 'magpsf', 'sigmapsf', 'chipsf', 'magap', 'sigmagap',\n",
        "'distnr', 'magnr', 'sigmagnr', 'chinr', 'sharpnr', 'sky',\n",
        "'magdiff', 'fwhm', 'classtar', 'mindtoedge', 'magfromlim', 'seeratio',\n",
        "'aimage', 'bimage', 'aimagerat', 'bimagerat', 'elong', 'nneg',\n",
        "'nbad', 'ssdistnr', 'ssmagnr', 'sumrat', 'magapbig', 'sigmagapbig',\n",
        "'ndethist', 'ncovhist', 'jdstarthist', 'jdendhist', 'scorr', 'label']"
      ],
      "execution_count": 0,
      "outputs": []
    },
    {
      "cell_type": "code",
      "metadata": {
        "id": "KrMDo3hjeWye",
        "colab_type": "code",
        "colab": {}
      },
      "source": [
        "#Create the dataset and label the columns using Pandas\n",
        "import pandas as pd\n",
        "df = pd.DataFrame(data=feats, index=None, columns=COL_NAMES)"
      ],
      "execution_count": 0,
      "outputs": []
    },
    {
      "cell_type": "code",
      "metadata": {
        "id": "HedrDP_SeYEp",
        "colab_type": "code",
        "outputId": "ef4e4c92-8ca9-44ae-eff6-0745da493c2b",
        "colab": {
          "base_uri": "https://localhost:8080/",
          "height": 283
        }
      },
      "source": [
        "import matplotlib.pyplot as plt\n",
        "ax = plt.gca() #To get axis when plotting\n",
        "\n",
        "#Define the plot data for two different columns versus distnr \n",
        "chipsf = df.plot(kind='scatter', x='distnr', y='chipsf',\n",
        "                 legend=None, color = 'red', ax=ax)\n",
        "seeratio = df.plot(kind='scatter', x='distnr', y='seeratio',\n",
        "                   legend=None, color = 'blue', ax=ax)\n",
        "\n",
        "plt.legend(['chipsf','seeratio'])\n",
        "plt.axis([-50, 50, -100, 500]) #Limit view to avoid outliers that skew visual\n",
        "chipsf.yaxis.set_label_text('') #Removes y-axis label\n",
        "seeratio.yaxis.set_label_text('')\n",
        "\n",
        "plt.show()"
      ],
      "execution_count": 19,
      "outputs": [
        {
          "output_type": "display_data",
          "data": {
            "image/png": "[encoded data removed]",
            "text/plain": [
              "<Figure size 432x288 with 1 Axes>"
            ]
          },
          "metadata": {
            "tags": [],
            "needs_background": "light"
          }
        }
      ]
    },
    {
      "cell_type": "code",
      "metadata": {
        "id": "EHKZy-2vrFku",
        "colab_type": "code",
        "colab": {}
      },
      "source": [
        ""
      ],
      "execution_count": 0,
      "outputs": []
    }
  ]
}